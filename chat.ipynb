import os
import PyPDF2
from transformers import pipeline

# Load the question-answering model
qa_pipeline = pipeline('question-answering', model='distilbert-base-cased-distilled-squad')

def extract_text_from_pdf(pdf_path):
    # Open the PDF file
    with open(pdf_path, 'rb') as pdf_file:
        # Create a PDF reader object
        pdf_reader = PyPDF2.PdfReader(pdf_file)
        num_pages = len(pdf_reader.pages)
        text = ''
        # Extract text from each page
        for page_num in range(num_pages):
            page = pdf_reader.pages[page_num]
            text += page.extract_text()
        return text

def answer_question(question, context):
    # Use the question-answering model to find the answer
    answer = qa_pipeline(question=question, context=context)
    return answer['answer']

if __name__ == "__main__":
    # Path to your PDF file
    pdf_file_path = 'C://Users//DIYA//Downloads//offerletter.pdf'
    
    # Extract text from the PDF
    pdf_text = extract_text_from_pdf(pdf_file_path)

    # Example questions
    questions = [
        "what is the resource name?"
    ]

    # Answer each question based on the extracted text
    for question in questions:
        answer = answer_question(question, pdf_text)
        print(f"Question: {question}")
        print(f"Answer: {answer}\n")
